{
 "cells": [
  {
   "cell_type": "code",
   "execution_count": 1,
   "metadata": {},
   "outputs": [],
   "source": [
    "import csv\n",
    "file = open('match_results.tsv', 'r')\n",
    "reader = csv.reader(file, delimiter='\\t')"
   ]
  },
  {
   "cell_type": "code",
   "execution_count": 2,
   "metadata": {},
   "outputs": [],
   "source": [
    "primary_labels = [0, 0, 0]\n",
    "aliases = [0, 0, 0]\n",
    "no_match = [0, 0, 0]\n",
    "rows = 0\n",
    "for row in reader:\n",
    "    if row[0] == 'Label':\n",
    "        continue  # skip\n",
    "    else:\n",
    "        rows += 1\n",
    "        for i in range(1, 4):\n",
    "            if row[i] == \"MatchType.PRIMARY_LABEL\":\n",
    "                primary_labels[i - 1] += 1\n",
    "            elif row[i] == \"MatchType.ALIAS\":\n",
    "                aliases[i - 1] += 1\n",
    "            elif row[i] == \"MatchType.NO_MATCH\":\n",
    "                no_match[i - 1] += 1\n",
    "            else:\n",
    "                raise Exception"
   ]
  },
  {
   "cell_type": "code",
   "execution_count": null,
   "metadata": {},
   "outputs": [],
   "source": []
  }
 ],
 "metadata": {
  "kernelspec": {
   "display_name": "Python 3",
   "language": "python",
   "name": "python3"
  },
  "language_info": {
   "codemirror_mode": {
    "name": "ipython",
    "version": 3
   },
   "file_extension": ".py",
   "mimetype": "text/x-python",
   "name": "python",
   "nbconvert_exporter": "python",
   "pygments_lexer": "ipython3",
   "version": "3.8.2"
  }
 },
 "nbformat": 4,
 "nbformat_minor": 4
}
