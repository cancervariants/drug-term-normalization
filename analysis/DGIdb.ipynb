{
 "cells": [
  {
   "cell_type": "code",
   "execution_count": 1,
   "metadata": {},
   "outputs": [],
   "source": [
    "import csv\n",
    "from collections import Counter\n",
    "from therapy import PROJECT_ROOT\n",
    "from therapy.normalizers import Wikidata\n",
    "import json"
   ]
  },
  {
   "cell_type": "code",
   "execution_count": 2,
   "metadata": {},
   "outputs": [],
   "source": [
    "drug_claim_records = list()\n",
    "with open(PROJECT_ROOT / 'data' / 'drugs.tsv', 'r') as f:\n",
    "    reader = csv.DictReader(f, delimiter='\\t')\n",
    "    for record in reader:\n",
    "        if record['drug_claim_source'] == 'PubChem':\n",
    "            continue\n",
    "        drug_claim_records.append(record)\n",
    "    "
   ]
  },
  {
   "cell_type": "code",
   "execution_count": 3,
   "metadata": {},
   "outputs": [
    {
     "data": {
      "text/plain": [
       "{'drug_claim_name': 'DCL001024',\n",
       " 'drug_name': 'OLEIC ACID',\n",
       " 'chembl_id': 'CHEMBL8659',\n",
       " 'drug_claim_source': 'TTD'}"
      ]
     },
     "execution_count": 3,
     "metadata": {},
     "output_type": "execute_result"
    }
   ],
   "source": [
    "drug_claim_records[0]"
   ]
  },
  {
   "cell_type": "code",
   "execution_count": 4,
   "metadata": {},
   "outputs": [],
   "source": [
    "w = Wikidata()"
   ]
  },
  {
   "cell_type": "code",
   "execution_count": 13,
   "metadata": {},
   "outputs": [
    {
     "data": {
      "text/plain": [
       "Counter({None: 11071,\n",
       "         'concordant': 4175,\n",
       "         'chembl-discordant': 3628,\n",
       "         'ambiguous': 172,\n",
       "         'case-insensitive-match': 25,\n",
       "         'discordant': 145,\n",
       "         'match': 49})"
      ]
     },
     "execution_count": 13,
     "metadata": {},
     "output_type": "execute_result"
    }
   ],
   "source": [
    "c = Counter()\n",
    "match = list()\n",
    "chembl_discordant = list()\n",
    "discordant = list()\n",
    "no_match = list()\n",
    "ambiguous = list()\n",
    "for record in drug_claim_records:\n",
    "    resp1 = w.normalize(record['drug_claim_name'])\n",
    "    record['dcn_w'] = resp1\n",
    "    resp2 = w.normalize(record['drug_name'])\n",
    "    record['dn_w'] = resp2\n",
    "    \n",
    "    if resp1.match_type is None or resp1.match_type == 'ambiguous':\n",
    "        if resp2.match_type is None:\n",
    "            t = resp1.match_type\n",
    "        else:\n",
    "            t = resp2.match_type\n",
    "    elif resp2.match_type is None or resp2.match_type == 'ambiguous':\n",
    "        if resp1.match_type is None:\n",
    "            t = resp2.match_type\n",
    "        else:\n",
    "            t = resp1.match_type\n",
    "    else:\n",
    "        label1 = resp1.normalized_label\n",
    "        label2 = resp2.normalized_label\n",
    "        if label1 == label2:\n",
    "            t = 'concordant'\n",
    "        else:\n",
    "            t = 'discordant'\n",
    "    if t == 'discordant':\n",
    "        discordant.append(record)\n",
    "    elif t is None:\n",
    "        no_match.append(record)\n",
    "    elif t == 'ambiguous':\n",
    "        ambiguous.append(record)\n",
    "    else:\n",
    "        if record['chembl_id'] and record['chembl_id'] in resp1.aliases.get('chembl', set()):\n",
    "            match.append(record)\n",
    "        else:\n",
    "            chembl_discordant.append(record)\n",
    "            t = 'chembl-discordant'\n",
    "    c[t] += 1\n",
    "c"
   ]
  },
  {
   "cell_type": "code",
   "execution_count": 22,
   "metadata": {},
   "outputs": [],
   "source": [
    "chembl_discordant_counts = Counter([x['drug_claim_source'] for x in chembl_discordant])\n",
    "no_match_counts = Counter([x['drug_claim_source'] for x in no_match])\n",
    "total_counts = Counter([x['drug_claim_source'] for x in drug_claim_records])"
   ]
  },
  {
   "cell_type": "code",
   "execution_count": 23,
   "metadata": {},
   "outputs": [
    {
     "name": "stdout",
     "output_type": "stream",
     "text": [
      "TdgClinicalTrial: 153 / 2419 (6.3%)\n",
      "GuideToPharmacologyInteractions: 1634 / 6495 (25.2%)\n",
      "CGI: 24 / 155 (15.5%)\n",
      "TTD: 1226 / 2720 (45.1%)\n",
      "ChemblInteractions: 145 / 2716 (5.3%)\n",
      "MyCancerGenome: 19 / 252 (7.5%)\n",
      "NCI: 191 / 1519 (12.6%)\n",
      "ClearityFoundationClinicalTrial: 7 / 115 (6.1%)\n",
      "OncoKB: 15 / 99 (15.2%)\n",
      "TALC: 18 / 274 (6.6%)\n",
      "CKB: 47 / 733 (6.4%)\n",
      "CIViC: 30 / 280 (10.7%)\n",
      "CancerCommons: 8 / 80 (10.0%)\n",
      "TEND: 76 / 989 (7.7%)\n",
      "FDA: 20 / 204 (9.8%)\n",
      "MyCancerGenomeClinicalTrial: 10 / 112 (8.9%)\n",
      "ClearityFoundationBiomarkers: 5 / 64 (7.8%)\n"
     ]
    }
   ],
   "source": [
    "for k in chembl_discordant_counts:\n",
    "    v = chembl_discordant_counts[k]\n",
    "    s = total_counts[k]\n",
    "    print(f'{k}: {v} / {s} ({v/s*100:.1f}%)')"
   ]
  },
  {
   "cell_type": "markdown",
   "metadata": {},
   "source": [
    "The above clearly demonstrates that a few resources are big outliers here: TTD and GtP. Reviewing / cleaning up the import process for those may help considerably with ChEMBL alignment."
   ]
  },
  {
   "cell_type": "code",
   "execution_count": 15,
   "metadata": {},
   "outputs": [
    {
     "data": {
      "text/plain": [
       "{'drug_claim_name': 'PEMETREXED',\n",
       " 'drug_name': 'PEMETREXED (CHEMBL1201258)',\n",
       " 'chembl_id': 'CHEMBL1201258',\n",
       " 'drug_claim_source': 'TdgClinicalTrial',\n",
       " 'dcn_w': NormalizerResponse(input_term='PEMETREXED', normalized_label={'pemetrexed'}, aliases={'item': {'http://www.wikidata.org/entity/Q415220'}, 'itemLabel': {'pemetrexed'}, 'casRegistry': {'137281-23-3'}, 'pubchemCompound': {'446556'}, 'chembl': {'CHEMBL225072'}, 'rxnorm': {'68446'}, 'drugbank': {'00642'}, 'altLabel': {'Pemetrexed', 'Alimta®', 'LY-231514'}}, match_type='case-insensitive-match'),\n",
       " 'dn_w': NormalizerResponse(input_term='PEMETREXED (CHEMBL1201258)', normalized_label=None, aliases={}, match_type=None)}"
      ]
     },
     "execution_count": 15,
     "metadata": {},
     "output_type": "execute_result"
    }
   ],
   "source": [
    "chembl_discordant[0]"
   ]
  },
  {
   "cell_type": "markdown",
   "metadata": {},
   "source": [
    "Investigating this above record, I found that both ChEMBL IDs are valid, but distinct stereoisoforms. The Wikidata ID was the only one listed on the medication entry, and this is in fact the stereoisoform that has made it to approved usage."
   ]
  },
  {
   "cell_type": "code",
   "execution_count": 25,
   "metadata": {},
   "outputs": [
    {
     "name": "stdout",
     "output_type": "stream",
     "text": [
      "TTD: 1465 / 2720 (53.9%)\n",
      "GuideToPharmacologyInteractions: 4528 / 6495 (69.7%)\n",
      "NCI: 810 / 1519 (53.3%)\n",
      "TdgClinicalTrial: 1182 / 2419 (48.9%)\n",
      "CKB: 521 / 733 (71.1%)\n",
      "ChemblInteractions: 1851 / 2716 (68.2%)\n",
      "TALC: 172 / 274 (62.8%)\n",
      "MyCancerGenomeClinicalTrial: 39 / 112 (34.8%)\n",
      "CGI: 33 / 155 (21.3%)\n",
      "ClearityFoundationBiomarkers: 20 / 64 (31.2%)\n",
      "OncoKB: 23 / 99 (23.2%)\n",
      "TEND: 59 / 989 (6.0%)\n",
      "MyCancerGenome: 120 / 252 (47.6%)\n",
      "ClearityFoundationClinicalTrial: 59 / 115 (51.3%)\n",
      "FDA: 19 / 204 (9.3%)\n",
      "CIViC: 130 / 280 (46.4%)\n",
      "CancerCommons: 37 / 80 (46.2%)\n",
      "DoCM: 3 / 39 (7.7%)\n"
     ]
    }
   ],
   "source": [
    "for k in no_match_counts:\n",
    "    v = no_match_counts[k]\n",
    "    s = total_counts[k]\n",
    "    print(f'{k}: {v} / {s} ({v/s*100:.1f}%)')"
   ]
  },
  {
   "cell_type": "markdown",
   "metadata": {},
   "source": [
    "Across the board, we are missing big swaths of terms. Not great. However, this is currently only items in Wikidata that are an instance of medication (or a medication subclass). There are many chemicals in Wikidata that are not labeled as \"medication\", and including those as a secondary normalization step will likely improve these values."
   ]
  }
 ],
 "metadata": {
  "kernelspec": {
   "display_name": "Python 3",
   "language": "python",
   "name": "python3"
  },
  "language_info": {
   "codemirror_mode": {
    "name": "ipython",
    "version": 3
   },
   "file_extension": ".py",
   "mimetype": "text/x-python",
   "name": "python",
   "nbconvert_exporter": "python",
   "pygments_lexer": "ipython3",
   "version": "3.8.2"
  }
 },
 "nbformat": 4,
 "nbformat_minor": 4
}
