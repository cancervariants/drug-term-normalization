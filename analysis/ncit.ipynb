{
 "cells": [
  {
   "cell_type": "code",
   "execution_count": 1,
   "metadata": {},
   "outputs": [
    {
     "name": "stderr",
     "output_type": "stream",
     "text": [
      "* Owlready2 * Warning: optimized Cython parser module 'owlready2_optimized' is not available, defaulting to slower Python implementation\n"
     ]
    },
    {
     "data": {
      "text/plain": [
       "get_ontology(\"http://ncicb.nci.nih.gov/xml/owl/EVS/Thesaurus.owl#\")"
      ]
     },
     "execution_count": 1,
     "metadata": {},
     "output_type": "execute_result"
    }
   ],
   "source": [
    "import owlready2 as owl\n",
    "ncit = owl.get_ontology('../data/ncit/ncit_20.09d.owl')\n",
    "ncit.load()\n",
    "graph = owl.default_world.as_rdflib_graph()"
   ]
  },
  {
   "cell_type": "code",
   "execution_count": 66,
   "metadata": {},
   "outputs": [],
   "source": [
    "# get all classes with Semantic_Type = \"Pharmacologic Substance\"\n",
    "query_str = \"\"\"SELECT ?x WHERE {?x <http://ncicb.nci.nih.gov/xml/owl/EVS/Thesaurus.owl#P106> \"Pharmacologic Substance\" }\"\"\"\n",
    "results = set(graph.query(query_str))\n",
    "\n",
    "def parse_uri(uri):\n",
    "    uri.toPython().split('#')[1]\n",
    "\n",
    "semtype_ps = set()\n",
    "for r in results:\n",
    "    semtype_ps.add(ncit[parse_uri(r[0])])"
   ]
  },
  {
   "cell_type": "code",
   "execution_count": 73,
   "metadata": {},
   "outputs": [],
   "source": [
    "# get all classes that are descendants of C1909 (\"Pharmacologic Substance\")\n",
    "def build_descendants(node, descendants):\n",
    "    children = node.descendants()\n",
    "    if len(children) == 0:\n",
    "        raise Exception(children)\n",
    "    elif len(children) == 1:\n",
    "        descendants.add(node)\n",
    "    else:\n",
    "        for child in children:\n",
    "            if child.name != node.name:\n",
    "                build_descendants(child, descendants)\n",
    "\n",
    "descendants = set()\n",
    "build_descendants(ncit.C1909, descendants)        "
   ]
  },
  {
   "cell_type": "code",
   "execution_count": 93,
   "metadata": {},
   "outputs": [
    {
     "name": "stdout",
     "output_type": "stream",
     "text": [
      "# of common elements: 15512\n",
      "# of elements with semantic type but not in descendants: 1637\n",
      "# of elements in descendant but don't have semantic type: 2954\n"
     ]
    }
   ],
   "source": [
    "semtype_not_desc = semtype_ps - descendants\n",
    "desc_not_semtype = descendants - semtype_ps\n",
    "print(f\"# of common elements: {len(semtype_ps.intersection(descendants))}\")\n",
    "print(f\"# of elements with semantic type but not in descendants: {len(semtype_not_desc)}\")\n",
    "print(f\"# of elements in descendant but don't have semantic type: {len(desc_not_semtype)}\")"
   ]
  },
  {
   "cell_type": "code",
   "execution_count": 106,
   "metadata": {},
   "outputs": [],
   "source": [
    "def print_info(owl_class):\n",
    "    if owl_class.P107:\n",
    "        name = owl_class.P107[0]\n",
    "    elif owl_class.P108:\n",
    "        name = owl_class.P108[0]\n",
    "    elif owl_class.P90:\n",
    "        name = owl_class.P90[0]\n",
    "    return (name, owl_class.NHC0[0])"
   ]
  },
  {
   "cell_type": "code",
   "execution_count": 112,
   "metadata": {},
   "outputs": [
    {
     "data": {
      "text/plain": [
       "[('Pyran Polymer', 'C29343'),\n",
       " ('Amifampridine', 'C87424'),\n",
       " ('d-Alpha-Tocopherol', 'C2832'),\n",
       " ('Soy Isoflavones', 'C65152'),\n",
       " ('Propisergide', 'C66490'),\n",
       " ('Etanidazole', 'C1092'),\n",
       " ('Levomenol', 'C80904'),\n",
       " ('Magnesium Malate', 'C87336'),\n",
       " ('Aluminum Sesquichlorohydrate', 'C142918'),\n",
       " ('Copal', 'C74358'),\n",
       " ('Quercetin', 'C792'),\n",
       " ('Cathepsin-Activatable Cy5 Fluorescent Imaging Probe LUM015', 'C105147'),\n",
       " ('Anti-CD38 Monoclonal Antibody', 'C155321'),\n",
       " ('Alpha-Tocopherol', 'C74960'),\n",
       " ('PS IL-10/Placebo', 'C29336'),\n",
       " ('Sodium Ferulate', 'C84155'),\n",
       " ('DOTMP', 'C1496'),\n",
       " ('Bisbentiamine', 'C81630'),\n",
       " ('Elm', 'C65510'),\n",
       " ('Paricalcitol', 'C38693'),\n",
       " ('Rutin', 'C819'),\n",
       " ('Dendritic Cell Vaccine', 'C28310'),\n",
       " ('ALVAC-CEA Vaccine', 'C1648'),\n",
       " ('Coniine Hydrochloride', 'C87478'),\n",
       " ('dl-alpha-Tocopherol', 'C74578'),\n",
       " ('Ferric Phosphate', 'C83714'),\n",
       " ('Probiotic Acidophilus', 'C79797'),\n",
       " ('Starch, Rice', 'C80780'),\n",
       " ('Telomerase:540-548 Peptide', 'C2813'),\n",
       " ('Visilizumab', 'C2687'),\n",
       " ('OPCs/Green Tea/Spirullina/Curcumin/Antrodia Camphorate/Fermented Soymilk Extract Capsule',\n",
       "  'C90545'),\n",
       " ('Bentiamine', 'C77084'),\n",
       " ('Caseinate Protein Isolate', 'C53440'),\n",
       " ('Levonorgestrel-Releasing Intrauterine System', 'C52193'),\n",
       " ('Recombinant Interleukin-6', 'C591'),\n",
       " ('Red Tomato Juice', 'C116328'),\n",
       " ('Doconexent', 'C68346'),\n",
       " ('Ofranergene obadenovec', 'C116893'),\n",
       " ('Nefludan', 'C29284'),\n",
       " ('Huang Qi', 'C129582'),\n",
       " ('Recombinant Hematopoietic Growth Factor', 'C2395'),\n",
       " ('Benzquercin', 'C74267'),\n",
       " ('MOv-PBL Vaccine', 'C2781'),\n",
       " ('Gluten-free Compact Nutritional Supplement Drink', 'C120033'),\n",
       " ('Zinc Caprylate', 'C84246')]"
      ]
     },
     "execution_count": 112,
     "metadata": {},
     "output_type": "execute_result"
    }
   ],
   "source": [
    "# sample of elements with semantic type Pharmacologic Substance but not in descendants\n",
    "list(map(print_info, semtype_not_desc))[0:45]"
   ]
  },
  {
   "cell_type": "code",
   "execution_count": 113,
   "metadata": {},
   "outputs": [
    {
     "data": {
      "text/plain": [
       "[('Pipoxolan Hydrochloride', 'C170323'),\n",
       " ('Elbasvir', 'C166892'),\n",
       " ('CA19-9 Antigen', 'C327'),\n",
       " ('Futuximab', 'C152971'),\n",
       " ('Meralluride', 'C166688'),\n",
       " ('Drocinonide', 'C166963'),\n",
       " ('Bordetella pertussis Antigen, D', 'C75775'),\n",
       " ('Monoclonal Antibody 48.7 F(ab)', 'C29200'),\n",
       " ('Anti-BCMA/CD3 BiTE Antibody AMG 701', 'C147028'),\n",
       " ('Limiglidole', 'C170123'),\n",
       " ('Tigemonam Dicholine', 'C152620'),\n",
       " ('Elismetrep ', 'C169937'),\n",
       " ('Sodium Phosphate, Radioactive', 'C2126'),\n",
       " ('Penimepicycline', 'C166691'),\n",
       " ('Alicapistat', 'C171868'),\n",
       " ('Diazooxonorleucine', 'C427'),\n",
       " ('Coblopasvir', 'C166912'),\n",
       " ('Donanemab', 'C166484'),\n",
       " ('Mycobacterium w', 'C70969'),\n",
       " ('Vanilloid', 'C1955'),\n",
       " ('NA17-A Antigen', 'C37450'),\n",
       " ('Mercaptomerin', 'C166828'),\n",
       " ('Fluperolone Acetate', 'C169995'),\n",
       " ('Bordetella pertussis Antigen, E', 'C75776'),\n",
       " ('Monoclonal Antibody 528', 'C29201'),\n",
       " ('Pegapamodutide', 'C170294'),\n",
       " ('Pheneticillin', 'C170316'),\n",
       " ('Igmesine', 'C170052'),\n",
       " ('Betahistine Hydrochloride', 'C73794'),\n",
       " ('Yttrium Y 90 Glass Microspheres', 'C38679'),\n",
       " ('Eravacycline Dihydrochloride', 'C169957'),\n",
       " ('Omburtamab', 'C170251'),\n",
       " ('Anserine', 'C118877'),\n",
       " ('Hydroxyethyl Starch 130/0.4', 'C166501'),\n",
       " ('Deldeprevir', 'C166876'),\n",
       " ('Brentuximab', 'C2007'),\n",
       " ('Chlorhexidine', 'C364'),\n",
       " ('Gusacitinib', 'C166736'),\n",
       " ('Alisporivir', 'C169774'),\n",
       " ('Bedinvetmab', 'C166485'),\n",
       " ('Ganglioside GD3', 'C39782'),\n",
       " ('Orilotimod ', 'C174870'),\n",
       " ('Fosdagrocorat ', 'C170007'),\n",
       " ('Bordetella pertussis Antigen, F', 'C75777'),\n",
       " ('Monoclonal Antibody 8.2', 'C29202')]"
      ]
     },
     "execution_count": 113,
     "metadata": {},
     "output_type": "execute_result"
    }
   ],
   "source": [
    "# sample of elements in descendants but not with semantic type Pharmacologic Substance\n",
    "list(map(print_info, desc_not_semtype))[0:45]"
   ]
  },
  {
   "cell_type": "code",
   "execution_count": null,
   "metadata": {},
   "outputs": [],
   "source": []
  }
 ],
 "metadata": {
  "kernelspec": {
   "display_name": "Python 3",
   "language": "python",
   "name": "python3"
  },
  "language_info": {
   "codemirror_mode": {
    "name": "ipython",
    "version": 3
   },
   "file_extension": ".py",
   "mimetype": "text/x-python",
   "name": "python",
   "nbconvert_exporter": "python",
   "pygments_lexer": "ipython3",
   "version": "3.8.2"
  }
 },
 "nbformat": 4,
 "nbformat_minor": 4
}
