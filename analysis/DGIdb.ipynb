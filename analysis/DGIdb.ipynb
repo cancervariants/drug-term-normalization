{
 "cells": [
  {
   "cell_type": "code",
   "execution_count": 23,
   "metadata": {},
   "outputs": [],
   "source": [
    "import csv\n",
    "from collections import Counter\n",
    "from operator import attrgetter\n",
    "from therapy import PROJECT_ROOT\n",
    "from therapy.normalizers import Wikidata\n",
    "import json"
   ]
  },
  {
   "cell_type": "code",
   "execution_count": 24,
   "metadata": {},
   "outputs": [],
   "source": [
    "drug_claim_records = list()\n",
    "with open(PROJECT_ROOT / 'data' / 'drugs.tsv', 'r') as f:\n",
    "    reader = csv.DictReader(f, delimiter='\\t')\n",
    "    for record in reader:\n",
    "        if record['drug_claim_source'] == 'PubChem':\n",
    "            continue\n",
    "        drug_claim_records.append(record)\n",
    "    "
   ]
  },
  {
   "cell_type": "code",
   "execution_count": 25,
   "metadata": {},
   "outputs": [
    {
     "data": {
      "text/plain": [
       "{'drug_claim_name': 'DCL001024',\n",
       " 'drug_name': 'OLEIC ACID',\n",
       " 'chembl_id': 'CHEMBL8659',\n",
       " 'drug_claim_source': 'TTD'}"
      ]
     },
     "execution_count": 25,
     "metadata": {},
     "output_type": "execute_result"
    }
   ],
   "source": [
    "drug_claim_records[0]"
   ]
  },
  {
   "cell_type": "code",
   "execution_count": 26,
   "metadata": {},
   "outputs": [],
   "source": [
    "w = Wikidata()"
   ]
  },
  {
   "cell_type": "code",
   "execution_count": 27,
   "metadata": {},
   "outputs": [
    {
     "data": {
      "text/plain": [
       "Counter({None: 11063,\n",
       "         'concordant': 4426,\n",
       "         'case-insensitive-match': 2625,\n",
       "         'match': 830,\n",
       "         'ambiguous': 176,\n",
       "         'discordant': 145})"
      ]
     },
     "execution_count": 27,
     "metadata": {},
     "output_type": "execute_result"
    }
   ],
   "source": [
    "c = Counter()\n",
    "match = list()\n",
    "chembl_discordant = list()\n",
    "discordant = list()\n",
    "no_match = list()\n",
    "ambiguous = list()\n",
    "for record in drug_claim_records:\n",
    "    resp1 = w.normalize(record['drug_claim_name'])\n",
    "    record['dcn_w'] = resp1\n",
    "    resp2 = w.normalize(record['drug_name'])\n",
    "    record['dn_w'] = resp2\n",
    "    \n",
    "    if resp1.match_type is None or resp1.match_type == 'ambiguous':\n",
    "        if resp2.match_type is None:\n",
    "            t = resp1.match_type\n",
    "        else:\n",
    "            t = resp2.match_type\n",
    "            respx = resp2\n",
    "    elif resp2.match_type is None or resp2.match_type == 'ambiguous':\n",
    "        if resp1.match_type is None:\n",
    "            t = resp2.match_type\n",
    "        else:\n",
    "            t = resp1.match_type\n",
    "            respx = resp1\n",
    "    else:\n",
    "        assert len(resp1.therapy_records) == 1\n",
    "        assert len(resp2.therapy_records) == 1\n",
    "        label1 = resp1.therapy_records[0].concept_identifier\n",
    "        label2 = resp2.therapy_records[0].concept_identifier\n",
    "        if label1 == label2:\n",
    "            t = 'concordant'\n",
    "            respx = resp1\n",
    "        else:\n",
    "            t = 'discordant'\n",
    "    if t == 'discordant':\n",
    "        discordant.append(record)\n",
    "    elif t is None:\n",
    "        no_match.append(record)\n",
    "    elif t == 'ambiguous':\n",
    "        ambiguous.append(record)\n",
    "    else:\n",
    "        match.append(record)\n",
    "    c[t] += 1\n",
    "c"
   ]
  },
  {
   "cell_type": "code",
   "execution_count": 31,
   "metadata": {},
   "outputs": [],
   "source": [
    "c = Counter(map(lambda x: x['drug_claim_source'], no_match))"
   ]
  },
  {
   "cell_type": "code",
   "execution_count": 32,
   "metadata": {},
   "outputs": [
    {
     "data": {
      "text/plain": [
       "Counter({'TTD': 1464,\n",
       "         'GuideToPharmacologyInteractions': 4528,\n",
       "         'NCI': 805,\n",
       "         'TdgClinicalTrial': 1182,\n",
       "         'CKB': 521,\n",
       "         'ChemblInteractions': 1850,\n",
       "         'TALC': 172,\n",
       "         'MyCancerGenomeClinicalTrial': 39,\n",
       "         'CGI': 33,\n",
       "         'ClearityFoundationBiomarkers': 20,\n",
       "         'OncoKB': 23,\n",
       "         'TEND': 59,\n",
       "         'MyCancerGenome': 120,\n",
       "         'ClearityFoundationClinicalTrial': 59,\n",
       "         'FDA': 18,\n",
       "         'CIViC': 130,\n",
       "         'CancerCommons': 37,\n",
       "         'DoCM': 3})"
      ]
     },
     "execution_count": 32,
     "metadata": {},
     "output_type": "execute_result"
    }
   ],
   "source": [
    "c"
   ]
  },
  {
   "cell_type": "code",
   "execution_count": null,
   "metadata": {},
   "outputs": [],
   "source": []
  }
 ],
 "metadata": {
  "kernelspec": {
   "display_name": "Python 3",
   "language": "python",
   "name": "python3"
  },
  "language_info": {
   "codemirror_mode": {
    "name": "ipython",
    "version": 3
   },
   "file_extension": ".py",
   "mimetype": "text/x-python",
   "name": "python",
   "nbconvert_exporter": "python",
   "pygments_lexer": "ipython3",
   "version": "3.8.3"
  }
 },
 "nbformat": 4,
 "nbformat_minor": 4
}
